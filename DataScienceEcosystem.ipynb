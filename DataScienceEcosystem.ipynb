{
 "cells": [
  {
   "cell_type": "markdown",
   "id": "5a09c9be-c8e0-45c9-845d-ac4507081841",
   "metadata": {},
   "source": [
    "# Data Science Tools and Ecosystem\n"
   ]
  },
  {
   "cell_type": "markdown",
   "id": "63473896-fbc2-4c1b-bf13-10b01d73ee2b",
   "metadata": {},
   "source": [
    "### In this notebook,Data Science Tools and Ecosystem are summarized."
   ]
  },
  {
   "cell_type": "markdown",
   "id": "6f1bfbc8-2824-4b6f-9a27-43ade45a2a77",
   "metadata": {},
   "source": [
    "### Objectives:\n",
    "* List some tools used in Data Science\n",
    "* List some popular languages for data scinece\n",
    "* List some commonly used libraries in data science\n",
    "* Few examples of evaluating arithmetic expressions in Python"
   ]
  },
  {
   "cell_type": "markdown",
   "id": "16533fb9-f2ab-4ae0-884a-0cc1b8a2a8b3",
   "metadata": {},
   "source": [
    "### Some of the popular languages that Data Scientists use are\n",
    "1. Python\n",
    "2. Julia\n",
    "3. R\n",
    "4. Scala\n",
    "5. SQL\n",
    "6. Java\n",
    "7. MATLAB\n",
    "   "
   ]
  },
  {
   "cell_type": "markdown",
   "id": "14bb54a2-e5af-4e03-9ed0-c1395324d1bc",
   "metadata": {},
   "source": [
    "### Some of the commonly used libraries used by Data Scientists include:\n",
    "1. NumPy\n",
    "2. pandas\n",
    "3. scikit-learn"
   ]
  },
  {
   "cell_type": "markdown",
   "id": "b7b6f57d-4aa0-49de-841e-363507d265bd",
   "metadata": {},
   "source": [
    "|Data Science Tools|\n",
    "|------------------|\n",
    "|Jupyter Notebook  |\n",
    "|RStudio           |\n",
    "|Visual Studio Code|"
   ]
  },
  {
   "cell_type": "markdown",
   "id": "dd842aea-d488-4e76-9769-3202cda21736",
   "metadata": {},
   "source": [
    "### Below are a few examples of evaluating arithmetic expressions in Python\n"
   ]
  },
  {
   "cell_type": "code",
   "execution_count": 3,
   "id": "cd2be7c4-5ee7-4423-ac9e-b8e39f5048e0",
   "metadata": {},
   "outputs": [
    {
     "data": {
      "text/plain": [
       "17"
      ]
     },
     "execution_count": 3,
     "metadata": {},
     "output_type": "execute_result"
    }
   ],
   "source": [
    "#This a simple arithmetic expression to mutiply then add integers.\n",
    "(3*4)+5"
   ]
  },
  {
   "cell_type": "code",
   "execution_count": 4,
   "id": "7aa94fdc-6607-4385-b358-d755ea59add5",
   "metadata": {},
   "outputs": [
    {
     "data": {
      "text/plain": [
       "3.3333333333333335"
      ]
     },
     "execution_count": 4,
     "metadata": {},
     "output_type": "execute_result"
    }
   ],
   "source": [
    "#  This will convert 200 minutes to hours by diving by 60.\n",
    "(200/60)"
   ]
  },
  {
   "cell_type": "markdown",
   "id": "4ff01ba5-d007-4df6-bd73-393679079678",
   "metadata": {},
   "source": [
    "## Author\n",
    "Jyoti\n",
    "\n",
    "Niveditha Pandit\n",
    "\n"
   ]
  },
  {
   "cell_type": "code",
   "execution_count": null,
   "id": "493e9249-f597-4c3a-920a-7c030fd9a211",
   "metadata": {},
   "outputs": [],
   "source": []
  }
 ],
 "metadata": {
  "kernelspec": {
   "display_name": "Python 3 (ipykernel)",
   "language": "python",
   "name": "python3"
  },
  "language_info": {
   "codemirror_mode": {
    "name": "ipython",
    "version": 3
   },
   "file_extension": ".py",
   "mimetype": "text/x-python",
   "name": "python",
   "nbconvert_exporter": "python",
   "pygments_lexer": "ipython3",
   "version": "3.11.4"
  }
 },
 "nbformat": 4,
 "nbformat_minor": 5
}
